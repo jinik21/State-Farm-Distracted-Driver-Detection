{
 "cells": [
  {
   "cell_type": "code",
   "execution_count": null,
   "metadata": {
    "_cell_guid": "b1076dfc-b9ad-4769-8c92-a6c4dae69d19",
    "_uuid": "8f2839f25d086af736a60e9eeb907d3b93b6e0e5"
   },
   "outputs": [],
   "source": [
    "# # This Python 3 environment comes with many helpful analytics libraries installed\n",
    "# # It is defined by the kaggle/python Docker image: https://github.com/kaggle/docker-python\n",
    "# # For example, here's several helpful packages to load\n",
    "\n",
    "# import numpy as np # linear algebra\n",
    "# import pandas as pd # data processing, CSV file I/O (e.g. pd.read_csv)\n",
    "\n",
    "# # Input data files are available in the read-only \"../input/\" directory\n",
    "# # For example, running this (by clicking run or pressing Shift+Enter) will list all files under the input directory\n",
    "\n",
    "# import os\n",
    "# for dirname, _, filenames in os.walk('/kaggle/input'):\n",
    "#     for filename in filenames:\n",
    "#         print(os.path.join(dirname, filename))\n",
    "\n",
    "# # You can write up to 20GB to the current directory (/kaggle/working/) that gets preserved as output when you create a version using \"Save & Run All\" \n",
    "# # You can also write temporary files to /kaggle/temp/, but they won't be saved outside of the current session"
   ]
  },
  {
   "cell_type": "code",
   "execution_count": 1,
   "metadata": {
    "execution": {
     "iopub.execute_input": "2022-03-15T14:15:36.446392Z",
     "iopub.status.busy": "2022-03-15T14:15:36.445432Z",
     "iopub.status.idle": "2022-03-15T14:15:37.255517Z",
     "shell.execute_reply": "2022-03-15T14:15:37.254350Z",
     "shell.execute_reply.started": "2022-03-15T14:15:36.446231Z"
    }
   },
   "outputs": [],
   "source": [
    "!ls"
   ]
  },
  {
   "cell_type": "code",
   "execution_count": 1,
   "metadata": {
    "execution": {
     "iopub.execute_input": "2022-03-15T16:29:03.092816Z",
     "iopub.status.busy": "2022-03-15T16:29:03.091876Z",
     "iopub.status.idle": "2022-03-15T16:29:13.880196Z",
     "shell.execute_reply": "2022-03-15T16:29:13.879097Z",
     "shell.execute_reply.started": "2022-03-15T16:29:03.092700Z"
    }
   },
   "outputs": [],
   "source": [
    "import cudf as pd\n",
    "import cupy as np\n",
    "import matplotlib.pyplot as plt\n",
    "from cuml.model_selection import train_test_split\n",
    "from tqdm import tqdm\n",
    "from keras.preprocessing import image\n",
    "\n",
    "%matplotlib inline"
   ]
  },
  {
   "cell_type": "code",
   "execution_count": 2,
   "metadata": {
    "execution": {
     "iopub.execute_input": "2022-03-15T16:29:13.882808Z",
     "iopub.status.busy": "2022-03-15T16:29:13.882569Z",
     "iopub.status.idle": "2022-03-15T16:29:20.737115Z",
     "shell.execute_reply": "2022-03-15T16:29:20.735953Z",
     "shell.execute_reply.started": "2022-03-15T16:29:13.882777Z"
    }
   },
   "outputs": [],
   "source": [
    "train = pd.read_csv('../input/state-farm-distracted-driver-detection/driver_imgs_list.csv')    # reading the csv file\n",
    "train.head() \n"
   ]
  },
  {
   "cell_type": "markdown",
   "metadata": {},
   "source": [
    "# Image dataset loading  \n",
    "### For ML models we put target image size as 64x64 across 3 channels (R,G,B) and flatten the matrix to give 1D array which ML Models expects.\n",
    "### Image api of Keras is used for dataset loading."
   ]
  },
  {
   "cell_type": "code",
   "execution_count": 3,
   "metadata": {
    "execution": {
     "iopub.execute_input": "2022-03-15T16:29:20.739706Z",
     "iopub.status.busy": "2022-03-15T16:29:20.739291Z",
     "iopub.status.idle": "2022-03-15T16:37:45.826292Z",
     "shell.execute_reply": "2022-03-15T16:37:45.824874Z",
     "shell.execute_reply.started": "2022-03-15T16:29:20.739641Z"
    }
   },
   "outputs": [],
   "source": [
    "\n",
    "train_image = []\n",
    "for i in tqdm(range(train.shape[0])):\n",
    "    img = image.load_img('../input/state-farm-distracted-driver-detection/imgs/train/'+train[\"classname\"][i]+\"/\"+train[\"img\"][i],target_size=(64,64,3))\n",
    "    img = image.img_to_array(img).flatten()\n",
    "    img = img/255\n",
    "    train_image.append(img)\n",
    "X = np.array(train_image)"
   ]
  },
  {
   "cell_type": "markdown",
   "metadata": {},
   "source": [
    "## Encoding Classnames"
   ]
  },
  {
   "cell_type": "code",
   "execution_count": 4,
   "metadata": {
    "execution": {
     "iopub.execute_input": "2022-03-15T16:37:45.830135Z",
     "iopub.status.busy": "2022-03-15T16:37:45.829479Z",
     "iopub.status.idle": "2022-03-15T16:37:45.955226Z",
     "shell.execute_reply": "2022-03-15T16:37:45.953702Z",
     "shell.execute_reply.started": "2022-03-15T16:37:45.830078Z"
    }
   },
   "outputs": [],
   "source": [
    "factor = pd.factorize(train['classname'])\n",
    "y = factor[0]\n",
    "definitions = factor[1]\n",
    "print(y)\n",
    "print(definitions)"
   ]
  },
  {
   "cell_type": "markdown",
   "metadata": {},
   "source": [
    "## Checking for class Imbalance in dataset\n"
   ]
  },
  {
   "cell_type": "code",
   "execution_count": 84,
   "metadata": {
    "execution": {
     "iopub.execute_input": "2022-03-15T15:01:12.196105Z",
     "iopub.status.busy": "2022-03-15T15:01:12.195777Z",
     "iopub.status.idle": "2022-03-15T15:01:12.568956Z",
     "shell.execute_reply": "2022-03-15T15:01:12.567920Z",
     "shell.execute_reply.started": "2022-03-15T15:01:12.196072Z"
    }
   },
   "outputs": [],
   "source": [
    "print(train['classname'].value_counts())\n",
    "pd.DataFrame(train['classname'].value_counts()).to_pandas().plot(kind='bar')"
   ]
  },
  {
   "cell_type": "markdown",
   "metadata": {},
   "source": [
    "# Image Quality Assessment using Brisque Score"
   ]
  },
  {
   "cell_type": "code",
   "execution_count": 91,
   "metadata": {
    "execution": {
     "iopub.execute_input": "2022-03-15T15:03:59.928397Z",
     "iopub.status.busy": "2022-03-15T15:03:59.928076Z",
     "iopub.status.idle": "2022-03-15T15:04:09.627360Z",
     "shell.execute_reply": "2022-03-15T15:04:09.626248Z",
     "shell.execute_reply.started": "2022-03-15T15:03:59.928364Z"
    }
   },
   "outputs": [],
   "source": [
    "!pip install pybrisque\n",
    "from brisque import *"
   ]
  },
  {
   "cell_type": "code",
   "execution_count": 90,
   "metadata": {
    "execution": {
     "iopub.execute_input": "2022-03-15T15:03:53.858069Z",
     "iopub.status.busy": "2022-03-15T15:03:53.857362Z",
     "iopub.status.idle": "2022-03-15T15:03:53.872685Z",
     "shell.execute_reply": "2022-03-15T15:03:53.871498Z",
     "shell.execute_reply.started": "2022-03-15T15:03:53.857988Z"
    }
   },
   "outputs": [],
   "source": [
    "from libsvm import svmutil"
   ]
  },
  {
   "cell_type": "code",
   "execution_count": 92,
   "metadata": {
    "execution": {
     "iopub.execute_input": "2022-03-15T15:04:14.215082Z",
     "iopub.status.busy": "2022-03-15T15:04:14.214733Z",
     "iopub.status.idle": "2022-03-15T15:04:14.231878Z",
     "shell.execute_reply": "2022-03-15T15:04:14.230906Z",
     "shell.execute_reply.started": "2022-03-15T15:04:14.215046Z"
    }
   },
   "outputs": [],
   "source": [
    "brisq = BRISQUE()"
   ]
  },
  {
   "cell_type": "code",
   "execution_count": 94,
   "metadata": {
    "execution": {
     "iopub.execute_input": "2022-03-15T15:05:35.748332Z",
     "iopub.status.busy": "2022-03-15T15:05:35.747971Z",
     "iopub.status.idle": "2022-03-15T15:37:34.891960Z",
     "shell.execute_reply": "2022-03-15T15:37:34.891123Z",
     "shell.execute_reply.started": "2022-03-15T15:05:35.748283Z"
    }
   },
   "outputs": [],
   "source": [
    "from tqdm import tqdm\n",
    "scores=[]\n",
    "l=[]\n",
    "for i in tqdm(range(train.shape[0])):\n",
    "    temp=brisq.get_score('../input/state-farm-distracted-driver-detection/imgs/train/'+train[\"classname\"][i]+\"/\"+train[\"img\"][i])\n",
    "    l.append((train[\"img\"][i],temp))\n",
    "    scores.append(temp)"
   ]
  },
  {
   "cell_type": "code",
   "execution_count": 95,
   "metadata": {
    "execution": {
     "iopub.execute_input": "2022-03-15T15:37:34.900139Z",
     "iopub.status.busy": "2022-03-15T15:37:34.896991Z",
     "iopub.status.idle": "2022-03-15T15:37:34.940056Z",
     "shell.execute_reply": "2022-03-15T15:37:34.938925Z",
     "shell.execute_reply.started": "2022-03-15T15:37:34.900094Z"
    }
   },
   "outputs": [],
   "source": [
    "import statistics\n",
    "statistics.mean(scores)"
   ]
  },
  {
   "cell_type": "markdown",
   "metadata": {},
   "source": [
    "##### since BRISQUE score is less so dataset images are of high quality."
   ]
  },
  {
   "cell_type": "code",
   "execution_count": 96,
   "metadata": {
    "execution": {
     "iopub.execute_input": "2022-03-15T15:37:34.941827Z",
     "iopub.status.busy": "2022-03-15T15:37:34.941426Z",
     "iopub.status.idle": "2022-03-15T15:37:35.432011Z",
     "shell.execute_reply": "2022-03-15T15:37:35.431035Z",
     "shell.execute_reply.started": "2022-03-15T15:37:34.941757Z"
    }
   },
   "outputs": [],
   "source": [
    "import matplotlib.pyplot as plt\n",
    "plt.hist(scores)"
   ]
  },
  {
   "cell_type": "code",
   "execution_count": 8,
   "metadata": {
    "execution": {
     "iopub.execute_input": "2022-03-15T14:26:07.743819Z",
     "iopub.status.busy": "2022-03-15T14:26:07.743457Z",
     "iopub.status.idle": "2022-03-15T14:26:07.751761Z",
     "shell.execute_reply": "2022-03-15T14:26:07.750533Z",
     "shell.execute_reply.started": "2022-03-15T14:26:07.743787Z"
    }
   },
   "outputs": [],
   "source": [
    "X.shape"
   ]
  },
  {
   "cell_type": "markdown",
   "metadata": {},
   "source": [
    "# Train-Test Split "
   ]
  },
  {
   "cell_type": "code",
   "execution_count": 5,
   "metadata": {
    "execution": {
     "iopub.execute_input": "2022-03-15T16:37:45.958229Z",
     "iopub.status.busy": "2022-03-15T16:37:45.957590Z",
     "iopub.status.idle": "2022-03-15T16:37:46.393209Z",
     "shell.execute_reply": "2022-03-15T16:37:46.391966Z",
     "shell.execute_reply.started": "2022-03-15T16:37:45.958069Z"
    }
   },
   "outputs": [],
   "source": [
    "X_train, X_test, y_train, y_test = train_test_split(X, y, random_state=42, test_size=0.1)"
   ]
  },
  {
   "cell_type": "code",
   "execution_count": 10,
   "metadata": {
    "execution": {
     "iopub.execute_input": "2022-03-15T14:26:19.602883Z",
     "iopub.status.busy": "2022-03-15T14:26:19.602512Z",
     "iopub.status.idle": "2022-03-15T14:26:19.611573Z",
     "shell.execute_reply": "2022-03-15T14:26:19.608193Z",
     "shell.execute_reply.started": "2022-03-15T14:26:19.602833Z"
    }
   },
   "outputs": [],
   "source": [
    "from cuml.naive_bayes import GaussianNB\n",
    "from cuml.linear_model import LogisticRegression\n",
    "from cuml.svm import SVC"
   ]
  },
  {
   "cell_type": "markdown",
   "metadata": {},
   "source": [
    "# Logistic Regression"
   ]
  },
  {
   "cell_type": "code",
   "execution_count": null,
   "metadata": {},
   "outputs": [],
   "source": [
    "clf_lr = LogisticRegression()\n",
    "clf_lr.fit(X_train, y_train)"
   ]
  },
  {
   "cell_type": "markdown",
   "metadata": {},
   "source": [
    "# Support Vector Classifier"
   ]
  },
  {
   "cell_type": "code",
   "execution_count": 11,
   "metadata": {
    "execution": {
     "iopub.execute_input": "2022-03-15T14:26:20.245555Z",
     "iopub.status.busy": "2022-03-15T14:26:20.244756Z",
     "iopub.status.idle": "2022-03-15T14:26:20.251070Z",
     "shell.execute_reply": "2022-03-15T14:26:20.249581Z",
     "shell.execute_reply.started": "2022-03-15T14:26:20.245500Z"
    }
   },
   "outputs": [],
   "source": [
    "clf_svc = SVC(probability=True)"
   ]
  },
  {
   "cell_type": "code",
   "execution_count": 12,
   "metadata": {
    "execution": {
     "iopub.execute_input": "2022-03-15T14:26:33.424630Z",
     "iopub.status.busy": "2022-03-15T14:26:33.424303Z",
     "iopub.status.idle": "2022-03-15T14:29:01.780628Z",
     "shell.execute_reply": "2022-03-15T14:29:01.779471Z",
     "shell.execute_reply.started": "2022-03-15T14:26:33.424591Z"
    }
   },
   "outputs": [],
   "source": [
    "clf_svc.fit(X_train, y_train)"
   ]
  },
  {
   "cell_type": "markdown",
   "metadata": {},
   "source": [
    "# Predicting Probability of Each Class"
   ]
  },
  {
   "cell_type": "code",
   "execution_count": 13,
   "metadata": {
    "execution": {
     "iopub.execute_input": "2022-03-15T14:29:01.783685Z",
     "iopub.status.busy": "2022-03-15T14:29:01.783326Z",
     "iopub.status.idle": "2022-03-15T14:29:29.499580Z",
     "shell.execute_reply": "2022-03-15T14:29:29.498542Z",
     "shell.execute_reply.started": "2022-03-15T14:29:01.783639Z"
    }
   },
   "outputs": [],
   "source": [
    "preds_prob= clf_svc.predict_proba(X_test)"
   ]
  },
  {
   "cell_type": "code",
   "execution_count": 14,
   "metadata": {
    "execution": {
     "iopub.execute_input": "2022-03-15T14:29:29.502462Z",
     "iopub.status.busy": "2022-03-15T14:29:29.501014Z",
     "iopub.status.idle": "2022-03-15T14:29:29.512498Z",
     "shell.execute_reply": "2022-03-15T14:29:29.511178Z",
     "shell.execute_reply.started": "2022-03-15T14:29:29.502413Z"
    }
   },
   "outputs": [],
   "source": [
    "preds_prob[0]"
   ]
  },
  {
   "cell_type": "markdown",
   "metadata": {},
   "source": [
    "# Predicting Best class for Accuracy metric"
   ]
  },
  {
   "cell_type": "code",
   "execution_count": 15,
   "metadata": {
    "execution": {
     "iopub.execute_input": "2022-03-15T14:29:29.516347Z",
     "iopub.status.busy": "2022-03-15T14:29:29.515798Z",
     "iopub.status.idle": "2022-03-15T14:29:57.405061Z",
     "shell.execute_reply": "2022-03-15T14:29:57.403883Z",
     "shell.execute_reply.started": "2022-03-15T14:29:29.516295Z"
    }
   },
   "outputs": [],
   "source": [
    "import cuml\n",
    "preds= clf_svc.predict(X_test)\n",
    "cu_score = cuml.metrics.accuracy_score( y_test, preds )\n",
    "print(cu_score)"
   ]
  },
  {
   "cell_type": "code",
   "execution_count": 32,
   "metadata": {
    "execution": {
     "iopub.execute_input": "2022-03-15T14:40:42.722654Z",
     "iopub.status.busy": "2022-03-15T14:40:42.722313Z",
     "iopub.status.idle": "2022-03-15T14:40:42.731596Z",
     "shell.execute_reply": "2022-03-15T14:40:42.730568Z",
     "shell.execute_reply.started": "2022-03-15T14:40:42.722622Z"
    }
   },
   "outputs": [],
   "source": [
    "preds"
   ]
  },
  {
   "cell_type": "markdown",
   "metadata": {},
   "source": [
    "## Calculating Confusion Metric"
   ]
  },
  {
   "cell_type": "code",
   "execution_count": 35,
   "metadata": {
    "execution": {
     "iopub.execute_input": "2022-03-15T14:41:13.477132Z",
     "iopub.status.busy": "2022-03-15T14:41:13.476810Z",
     "iopub.status.idle": "2022-03-15T14:41:20.272546Z",
     "shell.execute_reply": "2022-03-15T14:41:20.271562Z",
     "shell.execute_reply.started": "2022-03-15T14:41:13.477099Z"
    }
   },
   "outputs": [],
   "source": [
    "from cuml.metrics import confusion_matrix\n",
    "cm=confusion_matrix(y_test.astype(\"int32\"),preds.astype(\"int32\"))"
   ]
  },
  {
   "cell_type": "code",
   "execution_count": 77,
   "metadata": {
    "execution": {
     "iopub.execute_input": "2022-03-15T14:52:42.180017Z",
     "iopub.status.busy": "2022-03-15T14:52:42.179673Z",
     "iopub.status.idle": "2022-03-15T14:52:43.376036Z",
     "shell.execute_reply": "2022-03-15T14:52:43.375063Z",
     "shell.execute_reply.started": "2022-03-15T14:52:42.179964Z"
    }
   },
   "outputs": [],
   "source": [
    "import seaborn as sns\n",
    "sns.set(font_scale=1.0)\n",
    "sns.heatmap(np.asnumpy(cm),annot=True, cmap='Blues',fmt='g')"
   ]
  },
  {
   "cell_type": "markdown",
   "metadata": {},
   "source": [
    "## CatBoost,XGBoost,LightGbm,Random Forest & their Ensemble"
   ]
  },
  {
   "cell_type": "code",
   "execution_count": 24,
   "metadata": {
    "execution": {
     "iopub.execute_input": "2022-03-15T16:20:38.875797Z",
     "iopub.status.busy": "2022-03-15T16:20:38.875170Z",
     "iopub.status.idle": "2022-03-15T16:22:27.473620Z",
     "shell.execute_reply": "2022-03-15T16:22:27.472419Z",
     "shell.execute_reply.started": "2022-03-15T16:20:38.875729Z"
    }
   },
   "outputs": [],
   "source": [
    "import xgboost as xgb\n",
    "xgb_cl = xgb.XGBClassifier(use_label_encoder=False,tree_method='gpu_hist')\n",
    "xgb_cl.fit(X_train, y_train)\n",
    "preds_prob_xgb=xgb_cl.predict_proba(X_test)"
   ]
  },
  {
   "cell_type": "code",
   "execution_count": 8,
   "metadata": {
    "execution": {
     "iopub.execute_input": "2022-03-15T16:39:03.065621Z",
     "iopub.status.busy": "2022-03-15T16:39:03.065253Z",
     "iopub.status.idle": "2022-03-15T16:41:33.955479Z",
     "shell.execute_reply": "2022-03-15T16:41:33.954582Z",
     "shell.execute_reply.started": "2022-03-15T16:39:03.065553Z"
    }
   },
   "outputs": [],
   "source": [
    "from catboost import CatBoostClassifier\n",
    "cgb_cl = CatBoostClassifier(iterations=400,learning_rate =0.01,\n",
    "                           task_type=\"GPU\",\n",
    "                           random_seed=42)\n",
    "cgb_cl.fit(np.asnumpy(X_train),np.asnumpy(y_train))\n",
    "preds_prob_cgb=cgb_cl.predict_proba(np.asnumpy(X_test))"
   ]
  },
  {
   "cell_type": "code",
   "execution_count": 14,
   "metadata": {
    "execution": {
     "iopub.execute_input": "2022-03-15T18:27:34.549888Z",
     "iopub.status.busy": "2022-03-15T18:27:34.549566Z",
     "iopub.status.idle": "2022-03-15T18:27:34.558120Z",
     "shell.execute_reply": "2022-03-15T18:27:34.556960Z",
     "shell.execute_reply.started": "2022-03-15T18:27:34.549857Z"
    }
   },
   "outputs": [],
   "source": [
    "import lightgbm as lgb\n",
    "lgb_clf = lgb.LGBMClassifier(boosting_type='dart',learning_rate=0.18, max_depth=7,\n",
    "               n_estimators=450,objective='binary',device='gpu',\n",
    "               random_state=42)\n",
    "lgb_clf.fit(np.asnumpy(X_train),np.asnumpy(y_train))\n",
    "preds_prob_lgb=lgb_clf.predict_proba(np.asnumpy(X_test))\n",
    "print(preds_prob_lgb[0])"
   ]
  },
  {
   "cell_type": "code",
   "execution_count": 17,
   "metadata": {
    "execution": {
     "iopub.execute_input": "2022-03-15T16:17:15.308096Z",
     "iopub.status.busy": "2022-03-15T16:17:15.307696Z",
     "iopub.status.idle": "2022-03-15T16:18:26.756210Z",
     "shell.execute_reply": "2022-03-15T16:18:26.755036Z",
     "shell.execute_reply.started": "2022-03-15T16:17:15.308060Z"
    }
   },
   "outputs": [],
   "source": [
    "from cuml.ensemble import RandomForestClassifier\n",
    "rdf_clf=RandomForestClassifier(n_estimators=600,random_state=42, verbose=0,warm_start=False)\n",
    "rdf_clf.fit(X_train, y_train)\n",
    "preds_prob_rdf=rdf_clf.predict_proba(X_test)"
   ]
  },
  {
   "cell_type": "markdown",
   "metadata": {},
   "source": [
    "# Ensemble\n",
    "#### *Note - had memory allocation problems in ensembling can be implemented as below on gpu with greater memory "
   ]
  },
  {
   "cell_type": "code",
   "execution_count": 7,
   "metadata": {
    "execution": {
     "iopub.execute_input": "2022-03-15T16:38:47.267126Z",
     "iopub.status.busy": "2022-03-15T16:38:47.266791Z",
     "iopub.status.idle": "2022-03-15T16:38:47.273119Z",
     "shell.execute_reply": "2022-03-15T16:38:47.271739Z",
     "shell.execute_reply.started": "2022-03-15T16:38:47.267091Z"
    }
   },
   "outputs": [],
   "source": [
    "from sklearn.ensemble import  VotingClassifier\n",
    "eclf1 = VotingClassifier(estimators=[('catboost', cgb_cl), ('xgboost', xgb_cl), ('lightgbm', lgb_clf),('randomforest', rdf_clf)], voting='soft',weights=[3,2,3,3],flatten_transform=True)\n",
    "eclf1 = eclf1.fit(X_train, y_train)"
   ]
  }
 ],
 "metadata": {
  "kernelspec": {
   "display_name": "Python 3 (ipykernel)",
   "language": "python",
   "name": "python3"
  },
  "language_info": {
   "codemirror_mode": {
    "name": "ipython",
    "version": 3
   },
   "file_extension": ".py",
   "mimetype": "text/x-python",
   "name": "python",
   "nbconvert_exporter": "python",
   "pygments_lexer": "ipython3",
   "version": "3.9.2"
  }
 },
 "nbformat": 4,
 "nbformat_minor": 4
}
