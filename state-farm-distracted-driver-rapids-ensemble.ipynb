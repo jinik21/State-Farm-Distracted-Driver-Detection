{
 "cells": [
  {
   "cell_type": "code",
   "execution_count": null,
   "metadata": {
    "_cell_guid": "b1076dfc-b9ad-4769-8c92-a6c4dae69d19",
    "_uuid": "8f2839f25d086af736a60e9eeb907d3b93b6e0e5"
   },
   "outputs": [],
   "source": [
    "# # This Python 3 environment comes with many helpful analytics libraries installed\n",
    "# # It is defined by the kaggle/python Docker image: https://github.com/kaggle/docker-python\n",
    "# # For example, here's several helpful packages to load\n",
    "\n",
    "# import numpy as np # linear algebra\n",
    "# import pandas as pd # data processing, CSV file I/O (e.g. pd.read_csv)\n",
    "\n",
    "# # Input data files are available in the read-only \"../input/\" directory\n",
    "# # For example, running this (by clicking run or pressing Shift+Enter) will list all files under the input directory\n",
    "\n",
    "# import os\n",
    "# for dirname, _, filenames in os.walk('/kaggle/input'):\n",
    "#     for filename in filenames:\n",
    "#         print(os.path.join(dirname, filename))\n",
    "\n",
    "# # You can write up to 20GB to the current directory (/kaggle/working/) that gets preserved as output when you create a version using \"Save & Run All\" \n",
    "# # You can also write temporary files to /kaggle/temp/, but they won't be saved outside of the current session"
   ]
  },
  {
   "cell_type": "code",
   "execution_count": 1,
   "metadata": {
    "execution": {
     "iopub.execute_input": "2022-03-16T06:40:55.342719Z",
     "iopub.status.busy": "2022-03-16T06:40:55.341884Z",
     "iopub.status.idle": "2022-03-16T06:40:56.026848Z",
     "shell.execute_reply": "2022-03-16T06:40:56.025967Z",
     "shell.execute_reply.started": "2022-03-16T06:40:55.342595Z"
    }
   },
   "outputs": [
    {
     "name": "stdout",
     "output_type": "stream",
     "text": [
      "__notebook_source__.ipynb\n"
     ]
    }
   ],
   "source": [
    "!ls"
   ]
  },
  {
   "cell_type": "code",
   "execution_count": 4,
   "metadata": {
    "execution": {
     "iopub.execute_input": "2022-03-16T07:19:17.094292Z",
     "iopub.status.busy": "2022-03-16T07:19:17.094033Z",
     "iopub.status.idle": "2022-03-16T07:19:25.459297Z",
     "shell.execute_reply": "2022-03-16T07:19:25.458549Z",
     "shell.execute_reply.started": "2022-03-16T07:19:17.094263Z"
    }
   },
   "outputs": [],
   "source": [
    "import cudf as pd\n",
    "import cupy as np\n",
    "import matplotlib.pyplot as plt\n",
    "from cuml.model_selection import train_test_split\n",
    "from tqdm import tqdm\n",
    "from keras.preprocessing import image\n",
    "\n",
    "%matplotlib inline"
   ]
  },
  {
   "cell_type": "code",
   "execution_count": 5,
   "metadata": {
    "execution": {
     "iopub.execute_input": "2022-03-16T07:19:25.461086Z",
     "iopub.status.busy": "2022-03-16T07:19:25.460789Z",
     "iopub.status.idle": "2022-03-16T07:19:30.488357Z",
     "shell.execute_reply": "2022-03-16T07:19:30.487680Z",
     "shell.execute_reply.started": "2022-03-16T07:19:25.461051Z"
    }
   },
   "outputs": [
    {
     "data": {
      "text/html": [
       "<div>\n",
       "<style scoped>\n",
       "    .dataframe tbody tr th:only-of-type {\n",
       "        vertical-align: middle;\n",
       "    }\n",
       "\n",
       "    .dataframe tbody tr th {\n",
       "        vertical-align: top;\n",
       "    }\n",
       "\n",
       "    .dataframe thead th {\n",
       "        text-align: right;\n",
       "    }\n",
       "</style>\n",
       "<table border=\"1\" class=\"dataframe\">\n",
       "  <thead>\n",
       "    <tr style=\"text-align: right;\">\n",
       "      <th></th>\n",
       "      <th>subject</th>\n",
       "      <th>classname</th>\n",
       "      <th>img</th>\n",
       "    </tr>\n",
       "  </thead>\n",
       "  <tbody>\n",
       "    <tr>\n",
       "      <th>0</th>\n",
       "      <td>p002</td>\n",
       "      <td>c0</td>\n",
       "      <td>img_44733.jpg</td>\n",
       "    </tr>\n",
       "    <tr>\n",
       "      <th>1</th>\n",
       "      <td>p002</td>\n",
       "      <td>c0</td>\n",
       "      <td>img_72999.jpg</td>\n",
       "    </tr>\n",
       "    <tr>\n",
       "      <th>2</th>\n",
       "      <td>p002</td>\n",
       "      <td>c0</td>\n",
       "      <td>img_25094.jpg</td>\n",
       "    </tr>\n",
       "    <tr>\n",
       "      <th>3</th>\n",
       "      <td>p002</td>\n",
       "      <td>c0</td>\n",
       "      <td>img_69092.jpg</td>\n",
       "    </tr>\n",
       "    <tr>\n",
       "      <th>4</th>\n",
       "      <td>p002</td>\n",
       "      <td>c0</td>\n",
       "      <td>img_92629.jpg</td>\n",
       "    </tr>\n",
       "  </tbody>\n",
       "</table>\n",
       "</div>"
      ],
      "text/plain": [
       "  subject classname            img\n",
       "0    p002        c0  img_44733.jpg\n",
       "1    p002        c0  img_72999.jpg\n",
       "2    p002        c0  img_25094.jpg\n",
       "3    p002        c0  img_69092.jpg\n",
       "4    p002        c0  img_92629.jpg"
      ]
     },
     "execution_count": 5,
     "metadata": {},
     "output_type": "execute_result"
    }
   ],
   "source": [
    "train = pd.read_csv('../input/state-farm-distracted-driver-detection/driver_imgs_list.csv')    # reading the csv file\n",
    "train.head() "
   ]
  },
  {
   "cell_type": "markdown",
   "metadata": {},
   "source": [
    "# Image dataset loading  \n",
    "### For ML models we put target image size as 64x64 across 3 channels (R,G,B) and flatten the matrix to give 1D array which ML Models expects.\n",
    "### Image api of Keras is used for dataset loading."
   ]
  },
  {
   "cell_type": "code",
   "execution_count": 6,
   "metadata": {
    "execution": {
     "iopub.execute_input": "2022-03-16T07:19:30.489940Z",
     "iopub.status.busy": "2022-03-16T07:19:30.489535Z",
     "iopub.status.idle": "2022-03-16T07:25:49.316885Z",
     "shell.execute_reply": "2022-03-16T07:25:49.316054Z",
     "shell.execute_reply.started": "2022-03-16T07:19:30.489905Z"
    }
   },
   "outputs": [
    {
     "name": "stderr",
     "output_type": "stream",
     "text": [
      "100%|██████████| 22424/22424 [06:17<00:00, 59.39it/s]\n"
     ]
    }
   ],
   "source": [
    "train_image = []\n",
    "for i in tqdm(range(train.shape[0])):\n",
    "    img = image.load_img('../input/state-farm-distracted-driver-detection/imgs/train/'+train[\"classname\"][i]+\"/\"+train[\"img\"][i],target_size=(64,64,3))\n",
    "    img = image.img_to_array(img).flatten()\n",
    "    img = img/255\n",
    "    train_image.append(img)\n",
    "X = np.array(train_image)"
   ]
  },
  {
   "cell_type": "markdown",
   "metadata": {},
   "source": [
    "## Encoding Classnames"
   ]
  },
  {
   "cell_type": "code",
   "execution_count": 7,
   "metadata": {
    "execution": {
     "iopub.execute_input": "2022-03-16T07:25:49.319217Z",
     "iopub.status.busy": "2022-03-16T07:25:49.318999Z",
     "iopub.status.idle": "2022-03-16T07:25:49.434815Z",
     "shell.execute_reply": "2022-03-16T07:25:49.434001Z",
     "shell.execute_reply.started": "2022-03-16T07:25:49.319190Z"
    }
   },
   "outputs": [
    {
     "name": "stdout",
     "output_type": "stream",
     "text": [
      "[0 0 0 ... 9 9 9]\n",
      "StringIndex(['c0' 'c1' 'c2' 'c3' 'c4' 'c5' 'c6' 'c7' 'c8' 'c9'], dtype='object')\n"
     ]
    }
   ],
   "source": [
    "factor = pd.factorize(train['classname'])\n",
    "y = factor[0]\n",
    "definitions = factor[1]\n",
    "print(y)\n",
    "print(definitions)"
   ]
  },
  {
   "cell_type": "markdown",
   "metadata": {},
   "source": [
    "## Checking for class Imbalance in dataset\n"
   ]
  },
  {
   "cell_type": "code",
   "execution_count": 6,
   "metadata": {
    "execution": {
     "iopub.execute_input": "2022-03-16T06:47:33.578115Z",
     "iopub.status.busy": "2022-03-16T06:47:33.577860Z",
     "iopub.status.idle": "2022-03-16T06:47:33.849784Z",
     "shell.execute_reply": "2022-03-16T06:47:33.849109Z",
     "shell.execute_reply.started": "2022-03-16T06:47:33.578080Z"
    }
   },
   "outputs": [
    {
     "name": "stdout",
     "output_type": "stream",
     "text": [
      "c0    2489\n",
      "c3    2346\n",
      "c4    2326\n",
      "c6    2325\n",
      "c2    2317\n",
      "c5    2312\n",
      "c1    2267\n",
      "c9    2129\n",
      "c7    2002\n",
      "c8    1911\n",
      "Name: classname, dtype: int32\n"
     ]
    },
    {
     "data": {
      "text/plain": [
       "<AxesSubplot:>"
      ]
     },
     "execution_count": 6,
     "metadata": {},
     "output_type": "execute_result"
    },
    {
     "data": {
      "image/png": "[encoded data removed]",
      "text/plain": [
       "<Figure size 432x288 with 1 Axes>"
      ]
     },
     "metadata": {
      "needs_background": "light"
     },
     "output_type": "display_data"
    }
   ],
   "source": [
    "print(train['classname'].value_counts())\n",
    "pd.DataFrame(train['classname'].value_counts()).to_pandas().plot(kind='bar')"
   ]
  },
  {
   "cell_type": "markdown",
   "metadata": {},
   "source": [
    "# Image Quality Assessment using Brisque Score"
   ]
  },
  {
   "cell_type": "code",
   "execution_count": 9,
   "metadata": {
    "execution": {
     "iopub.execute_input": "2022-03-16T06:50:32.739738Z",
     "iopub.status.busy": "2022-03-16T06:50:32.739309Z",
     "iopub.status.idle": "2022-03-16T06:50:39.949627Z",
     "shell.execute_reply": "2022-03-16T06:50:39.948772Z",
     "shell.execute_reply.started": "2022-03-16T06:50:32.739702Z"
    }
   },
   "outputs": [
    {
     "name": "stdout",
     "output_type": "stream",
     "text": [
      "Requirement already satisfied: pybrisque in /opt/conda/lib/python3.7/site-packages (1.0)\n",
      "Requirement already satisfied: libsvm in /opt/conda/lib/python3.7/site-packages (from pybrisque) (3.23.0.4)\n",
      "Requirement already satisfied: opencv-python in /opt/conda/lib/python3.7/site-packages (from pybrisque) (4.5.4.60)\n",
      "Requirement already satisfied: scipy in /opt/conda/lib/python3.7/site-packages (from pybrisque) (1.7.3)\n",
      "Requirement already satisfied: numpy in /opt/conda/lib/python3.7/site-packages (from pybrisque) (1.20.3)\n",
      "\u001b[33mWARNING: Running pip as the 'root' user can result in broken permissions and conflicting behaviour with the system package manager. It is recommended to use a virtual environment instead: https://pip.pypa.io/warnings/venv\u001b[0m\n"
     ]
    }
   ],
   "source": [
    "from libsvm import svmutil\n",
    "!pip install pybrisque\n",
    "from brisque import *"
   ]
  },
  {
   "cell_type": "code",
   "execution_count": 10,
   "metadata": {
    "execution": {
     "iopub.execute_input": "2022-03-16T06:50:41.567828Z",
     "iopub.status.busy": "2022-03-16T06:50:41.567424Z",
     "iopub.status.idle": "2022-03-16T06:50:41.581037Z",
     "shell.execute_reply": "2022-03-16T06:50:41.580371Z",
     "shell.execute_reply.started": "2022-03-16T06:50:41.567793Z"
    }
   },
   "outputs": [],
   "source": [
    "brisq = BRISQUE()"
   ]
  },
  {
   "cell_type": "code",
   "execution_count": 11,
   "metadata": {
    "execution": {
     "iopub.execute_input": "2022-03-16T06:50:42.099863Z",
     "iopub.status.busy": "2022-03-16T06:50:42.099609Z",
     "iopub.status.idle": "2022-03-16T07:13:14.805022Z",
     "shell.execute_reply": "2022-03-16T07:13:14.804338Z",
     "shell.execute_reply.started": "2022-03-16T06:50:42.099833Z"
    }
   },
   "outputs": [
    {
     "name": "stderr",
     "output_type": "stream",
     "text": [
      "100%|██████████| 22424/22424 [22:32<00:00, 16.58it/s]\n"
     ]
    }
   ],
   "source": [
    "from tqdm import tqdm\n",
    "scores=[]\n",
    "l=[]\n",
    "for i in tqdm(range(train.shape[0])):\n",
    "    temp=brisq.get_score('../input/state-farm-distracted-driver-detection/imgs/train/'+train[\"classname\"][i]+\"/\"+train[\"img\"][i])\n",
    "    l.append((train[\"img\"][i],temp))\n",
    "    scores.append(temp)"
   ]
  },
  {
   "cell_type": "code",
   "execution_count": 12,
   "metadata": {
    "execution": {
     "iopub.execute_input": "2022-03-16T07:13:14.807607Z",
     "iopub.status.busy": "2022-03-16T07:13:14.807067Z",
     "iopub.status.idle": "2022-03-16T07:13:14.836414Z",
     "shell.execute_reply": "2022-03-16T07:13:14.835587Z",
     "shell.execute_reply.started": "2022-03-16T07:13:14.807566Z"
    }
   },
   "outputs": [
    {
     "data": {
      "text/plain": [
       "33.0189346624042"
      ]
     },
     "execution_count": 12,
     "metadata": {},
     "output_type": "execute_result"
    }
   ],
   "source": [
    "import statistics\n",
    "statistics.mean(scores)"
   ]
  },
  {
   "cell_type": "markdown",
   "metadata": {},
   "source": [
    "##### since BRISQUE score is less so dataset images are of high quality."
   ]
  },
  {
   "cell_type": "code",
   "execution_count": 13,
   "metadata": {
    "execution": {
     "iopub.execute_input": "2022-03-16T07:13:14.838142Z",
     "iopub.status.busy": "2022-03-16T07:13:14.837889Z",
     "iopub.status.idle": "2022-03-16T07:13:15.151778Z",
     "shell.execute_reply": "2022-03-16T07:13:15.151121Z",
     "shell.execute_reply.started": "2022-03-16T07:13:14.838107Z"
    }
   },
   "outputs": [
    {
     "data": {
      "text/plain": [
       "(array([2.0000e+00, 9.0000e+00, 9.6800e+02, 1.3225e+04, 6.1350e+03,\n",
       "        1.1920e+03, 6.4700e+02, 2.1100e+02, 2.2000e+01, 1.3000e+01]),\n",
       " array([ 2.49684518, 10.21149825, 17.92615133, 25.64080441, 33.35545749,\n",
       "        41.07011056, 48.78476364, 56.49941672, 64.2140698 , 71.92872287,\n",
       "        79.64337595]),\n",
       " <BarContainer object of 10 artists>)"
      ]
     },
     "execution_count": 13,
     "metadata": {},
     "output_type": "execute_result"
    },
    {
     "data": {
      "image/png": "[encoded data removed]",
      "text/plain": [
       "<Figure size 432x288 with 1 Axes>"
      ]
     },
     "metadata": {
      "needs_background": "light"
     },
     "output_type": "display_data"
    }
   ],
   "source": [
    "import matplotlib.pyplot as plt\n",
    "plt.hist(scores)"
   ]
  },
  {
   "cell_type": "code",
   "execution_count": 14,
   "metadata": {
    "execution": {
     "iopub.execute_input": "2022-03-16T07:13:15.154153Z",
     "iopub.status.busy": "2022-03-16T07:13:15.153756Z",
     "iopub.status.idle": "2022-03-16T07:13:15.159986Z",
     "shell.execute_reply": "2022-03-16T07:13:15.159176Z",
     "shell.execute_reply.started": "2022-03-16T07:13:15.154115Z"
    }
   },
   "outputs": [
    {
     "data": {
      "text/plain": [
       "(22424, 12288)"
      ]
     },
     "execution_count": 14,
     "metadata": {},
     "output_type": "execute_result"
    }
   ],
   "source": [
    "X.shape"
   ]
  },
  {
   "cell_type": "markdown",
   "metadata": {},
   "source": [
    "# Train-Test Split "
   ]
  },
  {
   "cell_type": "code",
   "execution_count": 8,
   "metadata": {
    "execution": {
     "iopub.execute_input": "2022-03-16T07:25:49.436509Z",
     "iopub.status.busy": "2022-03-16T07:25:49.436258Z",
     "iopub.status.idle": "2022-03-16T07:25:51.520614Z",
     "shell.execute_reply": "2022-03-16T07:25:51.519884Z",
     "shell.execute_reply.started": "2022-03-16T07:25:49.436475Z"
    }
   },
   "outputs": [],
   "source": [
    "X_train, X_test, y_train, y_test = train_test_split(X, y, random_state=42, test_size=0.1)"
   ]
  },
  {
   "cell_type": "code",
   "execution_count": 16,
   "metadata": {
    "execution": {
     "iopub.execute_input": "2022-03-16T07:13:17.451570Z",
     "iopub.status.busy": "2022-03-16T07:13:17.451328Z",
     "iopub.status.idle": "2022-03-16T07:13:17.458430Z",
     "shell.execute_reply": "2022-03-16T07:13:17.456563Z",
     "shell.execute_reply.started": "2022-03-16T07:13:17.451538Z"
    }
   },
   "outputs": [],
   "source": [
    "from cuml.naive_bayes import GaussianNB\n",
    "from cuml.linear_model import LogisticRegression\n",
    "from cuml.svm import SVC"
   ]
  },
  {
   "cell_type": "markdown",
   "metadata": {},
   "source": [
    "# Logistic Regression"
   ]
  },
  {
   "cell_type": "code",
   "execution_count": 17,
   "metadata": {
    "execution": {
     "iopub.execute_input": "2022-03-16T07:13:17.460215Z",
     "iopub.status.busy": "2022-03-16T07:13:17.459910Z",
     "iopub.status.idle": "2022-03-16T07:13:28.152099Z",
     "shell.execute_reply": "2022-03-16T07:13:28.151336Z",
     "shell.execute_reply.started": "2022-03-16T07:13:17.460179Z"
    }
   },
   "outputs": [
    {
     "name": "stdout",
     "output_type": "stream",
     "text": [
      "[W] [07:13:27.664432] L-BFGS: max iterations reached\n",
      "[W] [07:13:27.665446] Maximum iterations reached before solver is converged. To increase model accuracy you can increase the number of iterations (max_iter) or improve the scaling of the input data.\n",
      "0.9946476221084595\n"
     ]
    }
   ],
   "source": [
    "clf_lr = LogisticRegression()\n",
    "clf_lr.fit(X_train, y_train)\n",
    "import cuml\n",
    "preds= clf_lr.predict(X_test)\n",
    "cu_score = cuml.metrics.accuracy_score( y_test, preds )\n",
    "print(cu_score)"
   ]
  },
  {
   "cell_type": "markdown",
   "metadata": {},
   "source": [
    "# Gaussian Naive Bias"
   ]
  },
  {
   "cell_type": "code",
   "execution_count": 18,
   "metadata": {
    "execution": {
     "iopub.execute_input": "2022-03-16T07:13:28.153874Z",
     "iopub.status.busy": "2022-03-16T07:13:28.153460Z",
     "iopub.status.idle": "2022-03-16T07:13:37.205838Z",
     "shell.execute_reply": "2022-03-16T07:13:37.204327Z",
     "shell.execute_reply.started": "2022-03-16T07:13:28.153835Z"
    }
   },
   "outputs": [
    {
     "name": "stdout",
     "output_type": "stream",
     "text": [
      "0.5548617243766785\n"
     ]
    }
   ],
   "source": [
    "clf_gnb = GaussianNB()\n",
    "clf_gnb.fit(X_train, y_train)\n",
    "import cuml\n",
    "preds= clf_gnb.predict(X_test)\n",
    "cu_score = cuml.metrics.accuracy_score( y_test, preds )\n",
    "print(cu_score)"
   ]
  },
  {
   "cell_type": "markdown",
   "metadata": {},
   "source": [
    "# Support Vector Classifier"
   ]
  },
  {
   "cell_type": "code",
   "execution_count": 19,
   "metadata": {
    "execution": {
     "iopub.execute_input": "2022-03-16T07:13:37.207204Z",
     "iopub.status.busy": "2022-03-16T07:13:37.206964Z",
     "iopub.status.idle": "2022-03-16T07:16:00.450393Z",
     "shell.execute_reply": "2022-03-16T07:16:00.449572Z",
     "shell.execute_reply.started": "2022-03-16T07:13:37.207168Z"
    }
   },
   "outputs": [
    {
     "data": {
      "text/plain": [
       "SVC()"
      ]
     },
     "execution_count": 19,
     "metadata": {},
     "output_type": "execute_result"
    }
   ],
   "source": [
    "clf_svc = SVC(probability=True)\n",
    "clf_svc.fit(X_train, y_train)"
   ]
  },
  {
   "cell_type": "markdown",
   "metadata": {},
   "source": [
    "# Predicting Probability of Each Class"
   ]
  },
  {
   "cell_type": "code",
   "execution_count": 20,
   "metadata": {
    "execution": {
     "iopub.execute_input": "2022-03-16T07:16:00.453493Z",
     "iopub.status.busy": "2022-03-16T07:16:00.453211Z",
     "iopub.status.idle": "2022-03-16T07:16:30.997813Z",
     "shell.execute_reply": "2022-03-16T07:16:30.997102Z",
     "shell.execute_reply.started": "2022-03-16T07:16:00.453456Z"
    }
   },
   "outputs": [],
   "source": [
    "preds_prob= clf_svc.predict_proba(X_test)"
   ]
  },
  {
   "cell_type": "code",
   "execution_count": 21,
   "metadata": {
    "execution": {
     "iopub.execute_input": "2022-03-16T07:16:30.999297Z",
     "iopub.status.busy": "2022-03-16T07:16:30.999045Z",
     "iopub.status.idle": "2022-03-16T07:16:31.005680Z",
     "shell.execute_reply": "2022-03-16T07:16:31.004875Z",
     "shell.execute_reply.started": "2022-03-16T07:16:30.999247Z"
    }
   },
   "outputs": [
    {
     "data": {
      "text/plain": [
       "array([4.27944604e-06, 6.55315253e-05, 5.98455208e-13, 9.83435342e-01,\n",
       "       1.64947618e-02, 8.54532233e-08, 1.74258853e-18, 1.16612735e-19,\n",
       "       2.59800031e-17, 5.69817575e-13])"
      ]
     },
     "execution_count": 21,
     "metadata": {},
     "output_type": "execute_result"
    }
   ],
   "source": [
    "preds_prob[0]"
   ]
  },
  {
   "cell_type": "markdown",
   "metadata": {},
   "source": [
    "# Predicting Best class for Accuracy metric"
   ]
  },
  {
   "cell_type": "code",
   "execution_count": 22,
   "metadata": {
    "execution": {
     "iopub.execute_input": "2022-03-16T07:16:31.007798Z",
     "iopub.status.busy": "2022-03-16T07:16:31.007531Z",
     "iopub.status.idle": "2022-03-16T07:17:01.668825Z",
     "shell.execute_reply": "2022-03-16T07:17:01.667162Z",
     "shell.execute_reply.started": "2022-03-16T07:16:31.007762Z"
    }
   },
   "outputs": [
    {
     "name": "stdout",
     "output_type": "stream",
     "text": [
      "0.9924174547195435\n"
     ]
    }
   ],
   "source": [
    "import cuml\n",
    "preds= clf_svc.predict(X_test)\n",
    "cu_score = cuml.metrics.accuracy_score( y_test, preds )\n",
    "print(cu_score)"
   ]
  },
  {
   "cell_type": "code",
   "execution_count": 23,
   "metadata": {
    "execution": {
     "iopub.execute_input": "2022-03-16T07:17:01.670673Z",
     "iopub.status.busy": "2022-03-16T07:17:01.669985Z",
     "iopub.status.idle": "2022-03-16T07:17:01.676159Z",
     "shell.execute_reply": "2022-03-16T07:17:01.675502Z",
     "shell.execute_reply.started": "2022-03-16T07:17:01.670632Z"
    }
   },
   "outputs": [
    {
     "data": {
      "text/plain": [
       "array([3, 5, 7, ..., 6, 6, 6], dtype=int8)"
      ]
     },
     "execution_count": 23,
     "metadata": {},
     "output_type": "execute_result"
    }
   ],
   "source": [
    "preds"
   ]
  },
  {
   "cell_type": "markdown",
   "metadata": {},
   "source": [
    "## Calculating Confusion Metric"
   ]
  },
  {
   "cell_type": "code",
   "execution_count": 24,
   "metadata": {
    "execution": {
     "iopub.execute_input": "2022-03-16T07:17:01.677806Z",
     "iopub.status.busy": "2022-03-16T07:17:01.677406Z",
     "iopub.status.idle": "2022-03-16T07:17:06.284506Z",
     "shell.execute_reply": "2022-03-16T07:17:06.283763Z",
     "shell.execute_reply.started": "2022-03-16T07:17:01.677766Z"
    }
   },
   "outputs": [],
   "source": [
    "from cuml.metrics import confusion_matrix\n",
    "cm=confusion_matrix(y_test.astype(\"int32\"),preds.astype(\"int32\"))"
   ]
  },
  {
   "cell_type": "code",
   "execution_count": 26,
   "metadata": {
    "execution": {
     "iopub.execute_input": "2022-03-16T07:17:47.507292Z",
     "iopub.status.busy": "2022-03-16T07:17:47.507006Z",
     "iopub.status.idle": "2022-03-16T07:17:48.163020Z",
     "shell.execute_reply": "2022-03-16T07:17:48.162341Z",
     "shell.execute_reply.started": "2022-03-16T07:17:47.507248Z"
    }
   },
   "outputs": [
    {
     "data": {
      "text/plain": [
       "<AxesSubplot:>"
      ]
     },
     "execution_count": 26,
     "metadata": {},
     "output_type": "execute_result"
    },
    {
     "data": {
      "image/png": "[encoded data removed]",
      "text/plain": [
       "<Figure size 432x288 with 2 Axes>"
      ]
     },
     "metadata": {},
     "output_type": "display_data"
    }
   ],
   "source": [
    "import seaborn as sns\n",
    "import cupy as np\n",
    "sns.set(font_scale=1.0)\n",
    "sns.heatmap(np.asnumpy(cm),annot=True, cmap='Blues',fmt='g')"
   ]
  },
  {
   "cell_type": "markdown",
   "metadata": {},
   "source": [
    "## XGBoost ,CatBoost, LightGbm, Random Forest & their Ensemble"
   ]
  },
  {
   "cell_type": "code",
   "execution_count": 11,
   "metadata": {
    "execution": {
     "iopub.execute_input": "2022-03-16T07:28:19.182015Z",
     "iopub.status.busy": "2022-03-16T07:28:19.181478Z",
     "iopub.status.idle": "2022-03-16T07:28:19.447309Z",
     "shell.execute_reply": "2022-03-16T07:28:19.446528Z",
     "shell.execute_reply.started": "2022-03-16T07:28:19.181978Z"
    }
   },
   "outputs": [
    {
     "name": "stdout",
     "output_type": "stream",
     "text": [
      "0.9968777894973755\n"
     ]
    }
   ],
   "source": [
    "import xgboost as xgb\n",
    "import cuml\n",
    "xgb_clf = xgb.XGBClassifier(use_label_encoder=False,tree_method='gpu_hist')\n",
    "xgb_clf.fit(X_train, y_train)\n",
    "preds_prob_xgb=xgb_clf.predict_proba(X_test)\n",
    "preds= xgb_clf.predict(X_test)\n",
    "cu_score = cuml.metrics.accuracy_score( y_test, preds )\n",
    "print(cu_score)"
   ]
  },
  {
   "cell_type": "code",
   "execution_count": 13,
   "metadata": {
    "execution": {
     "iopub.execute_input": "2022-03-16T07:28:58.487402Z",
     "iopub.status.busy": "2022-03-16T07:28:58.486803Z",
     "iopub.status.idle": "2022-03-16T07:33:01.263459Z",
     "shell.execute_reply": "2022-03-16T07:33:01.262709Z",
     "shell.execute_reply.started": "2022-03-16T07:28:58.487365Z"
    }
   },
   "outputs": [
    {
     "name": "stdout",
     "output_type": "stream",
     "text": [
      "0:\tlearn: 2.2909138\ttotal: 294ms\tremaining: 2m 26s\n",
      "100:\tlearn: 1.7896985\ttotal: 23s\tremaining: 1m 30s\n",
      "200:\tlearn: 1.4922903\ttotal: 47.7s\tremaining: 1m 11s\n",
      "300:\tlearn: 1.2451341\ttotal: 1m 14s\tremaining: 49s\n",
      "400:\tlearn: 1.0507340\ttotal: 1m 40s\tremaining: 24.9s\n",
      "499:\tlearn: 0.9036528\ttotal: 2m 6s\tremaining: 0us\n",
      "0.9045495390892029\n"
     ]
    }
   ],
   "source": [
    "from catboost import CatBoostClassifier\n",
    "cgb_clf = CatBoostClassifier(iterations=500,learning_rate =0.01,\n",
    "                           task_type=\"GPU\",metric_period=100,\n",
    "                           random_seed=42)\n",
    "cgb_clf.fit(np.asnumpy(X_train),np.asnumpy(y_train))\n",
    "preds_prob_cgb=cgb_clf.predict_proba(np.asnumpy(X_test))\n",
    "preds= cgb_clf.predict(np.asnumpy(X_test))\n",
    "cu_score = cuml.metrics.accuracy_score( y_test, preds )\n",
    "print(cu_score)"
   ]
  },
  {
   "cell_type": "code",
   "execution_count": 14,
   "metadata": {
    "execution": {
     "iopub.execute_input": "2022-03-16T07:33:01.265886Z",
     "iopub.status.busy": "2022-03-16T07:33:01.265420Z",
     "iopub.status.idle": "2022-03-16T08:37:57.542771Z",
     "shell.execute_reply": "2022-03-16T08:37:57.542119Z",
     "shell.execute_reply.started": "2022-03-16T07:33:01.265805Z"
    }
   },
   "outputs": [
    {
     "data": {
      "text/html": [
       "<style type='text/css'>\n",
       ".datatable table.frame { margin-bottom: 0; }\n",
       ".datatable table.frame thead { border-bottom: none; }\n",
       ".datatable table.frame tr.coltypes td {  color: #FFFFFF;  line-height: 6px;  padding: 0 0.5em;}\n",
       ".datatable .bool    { background: #DDDD99; }\n",
       ".datatable .object  { background: #565656; }\n",
       ".datatable .int     { background: #5D9E5D; }\n",
       ".datatable .float   { background: #4040CC; }\n",
       ".datatable .str     { background: #CC4040; }\n",
       ".datatable .time    { background: #40CC40; }\n",
       ".datatable .row_index {  background: var(--jp-border-color3);  border-right: 1px solid var(--jp-border-color0);  color: var(--jp-ui-font-color3);  font-size: 9px;}\n",
       ".datatable .frame tbody td { text-align: left; }\n",
       ".datatable .frame tr.coltypes .row_index {  background: var(--jp-border-color0);}\n",
       ".datatable th:nth-child(2) { padding-left: 12px; }\n",
       ".datatable .hellipsis {  color: var(--jp-cell-editor-border-color);}\n",
       ".datatable .vellipsis {  background: var(--jp-layout-color0);  color: var(--jp-cell-editor-border-color);}\n",
       ".datatable .na {  color: var(--jp-cell-editor-border-color);  font-size: 80%;}\n",
       ".datatable .sp {  opacity: 0.25;}\n",
       ".datatable .footer { font-size: 9px; }\n",
       ".datatable .frame_dimensions {  background: var(--jp-border-color3);  border-top: 1px solid var(--jp-border-color0);  color: var(--jp-ui-font-color3);  display: inline-block;  opacity: 0.6;  padding: 1px 10px 1px 5px;}\n",
       "</style>\n"
      ],
      "text/plain": [
       "<IPython.core.display.HTML object>"
      ]
     },
     "metadata": {},
     "output_type": "display_data"
    },
    {
     "name": "stdout",
     "output_type": "stream",
     "text": [
      "0.997769832611084\n"
     ]
    }
   ],
   "source": [
    "import lightgbm as lgb\n",
    "lgb_clf = lgb.LGBMClassifier(boosting_type='dart',learning_rate=0.18, max_depth=7,\n",
    "               n_estimators=450,objective='binary',device='gpu',\n",
    "               random_state=42)\n",
    "lgb_clf.fit(np.asnumpy(X_train),np.asnumpy(y_train))\n",
    "preds_prob_lgb=lgb_clf.predict_proba(np.asnumpy(X_test))\n",
    "preds= lgb_clf.predict(np.asnumpy(X_test))\n",
    "cu_score = cuml.metrics.accuracy_score( y_test, preds )\n",
    "print(cu_score)"
   ]
  },
  {
   "cell_type": "code",
   "execution_count": 15,
   "metadata": {
    "execution": {
     "iopub.execute_input": "2022-03-16T08:37:57.547734Z",
     "iopub.status.busy": "2022-03-16T08:37:57.546166Z",
     "iopub.status.idle": "2022-03-16T08:39:10.819553Z",
     "shell.execute_reply": "2022-03-16T08:39:10.818819Z",
     "shell.execute_reply.started": "2022-03-16T08:37:57.547700Z"
    }
   },
   "outputs": [
    {
     "name": "stderr",
     "output_type": "stream",
     "text": [
      "/opt/conda/lib/python3.7/site-packages/cuml/internals/api_decorators.py:794: UserWarning: For reproducible results in Random Forest Classifier or for almost reproducible results in Random Forest Regressor, n_streams==1 is recommended. If n_streams is > 1, results may vary due to stream/thread timing differences, even when random_state is set\n",
      "  return func(**kwargs)\n"
     ]
    },
    {
     "name": "stdout",
     "output_type": "stream",
     "text": [
      "0.9799286127090454\n"
     ]
    }
   ],
   "source": [
    "from cuml.ensemble import RandomForestClassifier\n",
    "rdf_clf=RandomForestClassifier(n_estimators=600,random_state=42, verbose=0,warm_start=False)\n",
    "rdf_clf.fit(X_train, y_train)\n",
    "preds_prob_rdf=rdf_clf.predict_proba(X_test)\n",
    "preds= rdf_clf.predict(X_test)\n",
    "cu_score = cuml.metrics.accuracy_score( y_test, preds )\n",
    "print(cu_score)"
   ]
  },
  {
   "cell_type": "markdown",
   "metadata": {},
   "source": [
    "# Ensemble\n",
    "#### *Note - had memory allocation problems in ensembling can be implemented as below on gpu with greater memory "
   ]
  },
  {
   "cell_type": "code",
   "execution_count": 17,
   "metadata": {
    "execution": {
     "iopub.execute_input": "2022-03-16T08:40:41.300592Z",
     "iopub.status.busy": "2022-03-16T08:40:41.300337Z",
     "iopub.status.idle": "2022-03-16T09:51:28.449165Z",
     "shell.execute_reply": "2022-03-16T09:51:28.448580Z",
     "shell.execute_reply.started": "2022-03-16T08:40:41.300563Z"
    }
   },
   "outputs": [
    {
     "name": "stdout",
     "output_type": "stream",
     "text": [
      "0:\tlearn: 2.2909138\ttotal: 430ms\tremaining: 3m 34s\n",
      "100:\tlearn: 1.7896983\ttotal: 23.3s\tremaining: 1m 32s\n",
      "200:\tlearn: 1.4922903\ttotal: 48.3s\tremaining: 1m 11s\n",
      "300:\tlearn: 1.2451339\ttotal: 1m 14s\tremaining: 49.3s\n",
      "400:\tlearn: 1.0507343\ttotal: 1m 41s\tremaining: 25.1s\n",
      "499:\tlearn: 0.9036528\ttotal: 2m 7s\tremaining: 0us\n",
      "[08:43:33] WARNING: ../src/learner.cc:1115: Starting in XGBoost 1.3.0, the default evaluation metric used with the objective 'multi:softprob' was changed from 'merror' to 'mlogloss'. Explicitly set eval_metric if you'd like to restore the old behavior.\n"
     ]
    },
    {
     "name": "stderr",
     "output_type": "stream",
     "text": [
      "/opt/conda/lib/python3.7/site-packages/cuml/internals/api_decorators.py:794: UserWarning: For reproducible results in Random Forest Classifier or for almost reproducible results in Random Forest Regressor, n_streams==1 is recommended. If n_streams is > 1, results may vary due to stream/thread timing differences, even when random_state is set\n",
      "  return func(**kwargs)\n"
     ]
    }
   ],
   "source": [
    "from sklearn.ensemble import  VotingClassifier\n",
    "eclf1 = VotingClassifier(estimators=[('catboost', cgb_clf), ('xgboost', xgb_cl), ('lightgbm', lgb_clf),('randomforest', rdf_clf)], voting='soft',weights=[3,2,3,3],flatten_transform=True)\n",
    "eclf1 = eclf1.fit(np.asnumpy(X_train),np.asnumpy(y_train))"
   ]
  },
  {
   "cell_type": "code",
   "execution_count": 18,
   "metadata": {
    "execution": {
     "iopub.execute_input": "2022-03-16T09:58:34.052337Z",
     "iopub.status.busy": "2022-03-16T09:58:34.052055Z",
     "iopub.status.idle": "2022-03-16T09:58:37.323803Z",
     "shell.execute_reply": "2022-03-16T09:58:37.322913Z",
     "shell.execute_reply.started": "2022-03-16T09:58:34.052307Z"
    }
   },
   "outputs": [
    {
     "name": "stdout",
     "output_type": "stream",
     "text": [
      "0.997769832611084\n"
     ]
    }
   ],
   "source": [
    "preds= eclf1.predict(np.asnumpy(X_test))\n",
    "cu_score = cuml.metrics.accuracy_score( y_test, preds )\n",
    "print(cu_score)"
   ]
  },
  {
   "cell_type": "code",
   "execution_count": 19,
   "metadata": {
    "execution": {
     "iopub.execute_input": "2022-03-16T09:59:17.495374Z",
     "iopub.status.busy": "2022-03-16T09:59:17.494836Z",
     "iopub.status.idle": "2022-03-16T09:59:20.649562Z",
     "shell.execute_reply": "2022-03-16T09:59:20.648787Z",
     "shell.execute_reply.started": "2022-03-16T09:59:17.495339Z"
    }
   },
   "outputs": [
    {
     "data": {
      "text/plain": [
       "array([0.03971123, 0.03620501, 0.04660262, 0.71179312, 0.03948689,\n",
       "       0.0149805 , 0.03547675, 0.02047471, 0.02855964, 0.02670954])"
      ]
     },
     "execution_count": 19,
     "metadata": {},
     "output_type": "execute_result"
    }
   ],
   "source": [
    "eclf1.predict_proba(np.asnumpy(X_test))[0]"
   ]
  },
  {
   "cell_type": "code",
   "execution_count": 30,
   "metadata": {
    "execution": {
     "iopub.execute_input": "2022-03-16T10:27:00.664910Z",
     "iopub.status.busy": "2022-03-16T10:27:00.664310Z",
     "iopub.status.idle": "2022-03-16T10:27:00.769159Z",
     "shell.execute_reply": "2022-03-16T10:27:00.768420Z",
     "shell.execute_reply.started": "2022-03-16T10:27:00.664869Z"
    }
   },
   "outputs": [
    {
     "data": {
      "text/html": [
       "<div>\n",
       "<style scoped>\n",
       "    .dataframe tbody tr th:only-of-type {\n",
       "        vertical-align: middle;\n",
       "    }\n",
       "\n",
       "    .dataframe tbody tr th {\n",
       "        vertical-align: top;\n",
       "    }\n",
       "\n",
       "    .dataframe thead th {\n",
       "        text-align: right;\n",
       "    }\n",
       "</style>\n",
       "<table border=\"1\" class=\"dataframe\">\n",
       "  <thead>\n",
       "    <tr style=\"text-align: right;\">\n",
       "      <th></th>\n",
       "      <th>img</th>\n",
       "      <th>c0</th>\n",
       "      <th>c1</th>\n",
       "      <th>c2</th>\n",
       "      <th>c3</th>\n",
       "      <th>c4</th>\n",
       "      <th>c5</th>\n",
       "      <th>c6</th>\n",
       "      <th>c7</th>\n",
       "      <th>c8</th>\n",
       "      <th>c9</th>\n",
       "    </tr>\n",
       "  </thead>\n",
       "  <tbody>\n",
       "    <tr>\n",
       "      <th>0</th>\n",
       "      <td>img_1.jpg</td>\n",
       "      <td>0.1</td>\n",
       "      <td>0.1</td>\n",
       "      <td>0.1</td>\n",
       "      <td>0.1</td>\n",
       "      <td>0.1</td>\n",
       "      <td>0.1</td>\n",
       "      <td>0.1</td>\n",
       "      <td>0.1</td>\n",
       "      <td>0.1</td>\n",
       "      <td>0.1</td>\n",
       "    </tr>\n",
       "    <tr>\n",
       "      <th>1</th>\n",
       "      <td>img_10.jpg</td>\n",
       "      <td>0.1</td>\n",
       "      <td>0.1</td>\n",
       "      <td>0.1</td>\n",
       "      <td>0.1</td>\n",
       "      <td>0.1</td>\n",
       "      <td>0.1</td>\n",
       "      <td>0.1</td>\n",
       "      <td>0.1</td>\n",
       "      <td>0.1</td>\n",
       "      <td>0.1</td>\n",
       "    </tr>\n",
       "    <tr>\n",
       "      <th>2</th>\n",
       "      <td>img_100.jpg</td>\n",
       "      <td>0.1</td>\n",
       "      <td>0.1</td>\n",
       "      <td>0.1</td>\n",
       "      <td>0.1</td>\n",
       "      <td>0.1</td>\n",
       "      <td>0.1</td>\n",
       "      <td>0.1</td>\n",
       "      <td>0.1</td>\n",
       "      <td>0.1</td>\n",
       "      <td>0.1</td>\n",
       "    </tr>\n",
       "    <tr>\n",
       "      <th>3</th>\n",
       "      <td>img_1000.jpg</td>\n",
       "      <td>0.1</td>\n",
       "      <td>0.1</td>\n",
       "      <td>0.1</td>\n",
       "      <td>0.1</td>\n",
       "      <td>0.1</td>\n",
       "      <td>0.1</td>\n",
       "      <td>0.1</td>\n",
       "      <td>0.1</td>\n",
       "      <td>0.1</td>\n",
       "      <td>0.1</td>\n",
       "    </tr>\n",
       "    <tr>\n",
       "      <th>4</th>\n",
       "      <td>img_100000.jpg</td>\n",
       "      <td>0.1</td>\n",
       "      <td>0.1</td>\n",
       "      <td>0.1</td>\n",
       "      <td>0.1</td>\n",
       "      <td>0.1</td>\n",
       "      <td>0.1</td>\n",
       "      <td>0.1</td>\n",
       "      <td>0.1</td>\n",
       "      <td>0.1</td>\n",
       "      <td>0.1</td>\n",
       "    </tr>\n",
       "  </tbody>\n",
       "</table>\n",
       "</div>"
      ],
      "text/plain": [
       "              img   c0   c1   c2   c3   c4   c5   c6   c7   c8   c9\n",
       "0       img_1.jpg  0.1  0.1  0.1  0.1  0.1  0.1  0.1  0.1  0.1  0.1\n",
       "1      img_10.jpg  0.1  0.1  0.1  0.1  0.1  0.1  0.1  0.1  0.1  0.1\n",
       "2     img_100.jpg  0.1  0.1  0.1  0.1  0.1  0.1  0.1  0.1  0.1  0.1\n",
       "3    img_1000.jpg  0.1  0.1  0.1  0.1  0.1  0.1  0.1  0.1  0.1  0.1\n",
       "4  img_100000.jpg  0.1  0.1  0.1  0.1  0.1  0.1  0.1  0.1  0.1  0.1"
      ]
     },
     "execution_count": 30,
     "metadata": {},
     "output_type": "execute_result"
    }
   ],
   "source": [
    "test = pd.read_csv('../input/state-farm-distracted-driver-detection/sample_submission.csv')    # reading the csv file\n",
    "test.head() \n"
   ]
  },
  {
   "cell_type": "code",
   "execution_count": null,
   "metadata": {
    "execution": {
     "iopub.execute_input": "2022-03-16T10:27:17.198731Z",
     "iopub.status.busy": "2022-03-16T10:27:17.198244Z"
    }
   },
   "outputs": [
    {
     "name": "stderr",
     "output_type": "stream",
     "text": [
      "100%|██████████| 79726/79726 [17:21<00:00, 76.56it/s]\n"
     ]
    }
   ],
   "source": [
    "test_image = []\n",
    "for i in tqdm(range(test.shape[0])):\n",
    "    img = image.load_img('../input/state-farm-distracted-driver-detection/imgs/test/'+test[\"img\"][i],target_size=(64,64,3))\n",
    "    img = image.img_to_array(img).flatten()\n",
    "    img = img/255\n",
    "    test_image.append(img)\n",
    "test_data = np.array(test_image)"
   ]
  },
  {
   "cell_type": "code",
   "execution_count": null,
   "metadata": {},
   "outputs": [],
   "source": [
    "preds=eclf1.predict_proba(np.asnumpy(test_data))"
   ]
  },
  {
   "cell_type": "code",
   "execution_count": null,
   "metadata": {},
   "outputs": [],
   "source": []
  }
 ],
 "metadata": {
  "kernelspec": {
   "display_name": "Python 3 (ipykernel)",
   "language": "python",
   "name": "python3"
  },
  "language_info": {
   "codemirror_mode": {
    "name": "ipython",
    "version": 3
   },
   "file_extension": ".py",
   "mimetype": "text/x-python",
   "name": "python",
   "nbconvert_exporter": "python",
   "pygments_lexer": "ipython3",
   "version": "3.9.2"
  }
 },
 "nbformat": 4,
 "nbformat_minor": 4
}
